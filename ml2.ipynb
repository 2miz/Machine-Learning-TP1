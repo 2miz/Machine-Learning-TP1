{
 "cells": [
  {
   "cell_type": "code",
   "execution_count": 18,
   "id": "ae0d4eb4",
   "metadata": {},
   "outputs": [],
   "source": [
    "import pandas as pd \n",
    "import matplotlib.pyplot as plt\n",
    "import pandas as pd\n",
    "import seaborn as sns\n",
    "import numpy as np\n",
    "from sklearn.model_selection import train_test_split\n",
    "from sklearn.feature_extraction.text import CountVectorizer\n",
    "from sklearn.linear_model import LogisticRegression"
   ]
  },
  {
   "cell_type": "markdown",
   "id": "d696c15a",
   "metadata": {},
   "source": [
    "# Load Data"
   ]
  },
  {
   "cell_type": "code",
   "execution_count": 2,
   "id": "aff3a186",
   "metadata": {},
   "outputs": [],
   "source": [
    "neg_review=pd.read_pickle(\"Desktop/TP ML1/imdb_raw/imdb_raw_neg.pickle\")\n",
    "pos_review=pd.read_pickle(\"Desktop/TP ML1/imdb_raw/imdb_raw_pos.pickle\")"
   ]
  },
  {
   "cell_type": "code",
   "execution_count": 3,
   "id": "97a0aece",
   "metadata": {},
   "outputs": [
    {
     "data": {
      "text/html": [
       "<div>\n",
       "<style scoped>\n",
       "    .dataframe tbody tr th:only-of-type {\n",
       "        vertical-align: middle;\n",
       "    }\n",
       "\n",
       "    .dataframe tbody tr th {\n",
       "        vertical-align: top;\n",
       "    }\n",
       "\n",
       "    .dataframe thead th {\n",
       "        text-align: right;\n",
       "    }\n",
       "</style>\n",
       "<table border=\"1\" class=\"dataframe\">\n",
       "  <thead>\n",
       "    <tr style=\"text-align: right;\">\n",
       "      <th></th>\n",
       "      <th>Review</th>\n",
       "      <th>sentiments</th>\n",
       "    </tr>\n",
       "  </thead>\n",
       "  <tbody>\n",
       "    <tr>\n",
       "      <th>0</th>\n",
       "      <td>Once again Mr. Costner has dragged out a movie...</td>\n",
       "      <td>0</td>\n",
       "    </tr>\n",
       "    <tr>\n",
       "      <th>1</th>\n",
       "      <td>This is an example of why the majority of acti...</td>\n",
       "      <td>0</td>\n",
       "    </tr>\n",
       "    <tr>\n",
       "      <th>2</th>\n",
       "      <td>First of all I hate those moronic rappers, who...</td>\n",
       "      <td>0</td>\n",
       "    </tr>\n",
       "    <tr>\n",
       "      <th>3</th>\n",
       "      <td>Not even the Beatles could write songs everyon...</td>\n",
       "      <td>0</td>\n",
       "    </tr>\n",
       "    <tr>\n",
       "      <th>4</th>\n",
       "      <td>Brass pictures (movies is not a fitting word f...</td>\n",
       "      <td>0</td>\n",
       "    </tr>\n",
       "    <tr>\n",
       "      <th>...</th>\n",
       "      <td>...</td>\n",
       "      <td>...</td>\n",
       "    </tr>\n",
       "    <tr>\n",
       "      <th>12495</th>\n",
       "      <td>I was extraordinarily impressed by this film. ...</td>\n",
       "      <td>1</td>\n",
       "    </tr>\n",
       "    <tr>\n",
       "      <th>12496</th>\n",
       "      <td>Although I'm not a golf fan, I attended a snea...</td>\n",
       "      <td>1</td>\n",
       "    </tr>\n",
       "    <tr>\n",
       "      <th>12497</th>\n",
       "      <td>From the start of \"The Edge Of Love\", the view...</td>\n",
       "      <td>1</td>\n",
       "    </tr>\n",
       "    <tr>\n",
       "      <th>12498</th>\n",
       "      <td>This movie, with all its complexity and subtle...</td>\n",
       "      <td>1</td>\n",
       "    </tr>\n",
       "    <tr>\n",
       "      <th>12499</th>\n",
       "      <td>I've seen this story before but my kids haven'...</td>\n",
       "      <td>1</td>\n",
       "    </tr>\n",
       "  </tbody>\n",
       "</table>\n",
       "<p>25000 rows × 2 columns</p>\n",
       "</div>"
      ],
      "text/plain": [
       "                                                  Review  sentiments\n",
       "0      Once again Mr. Costner has dragged out a movie...           0\n",
       "1      This is an example of why the majority of acti...           0\n",
       "2      First of all I hate those moronic rappers, who...           0\n",
       "3      Not even the Beatles could write songs everyon...           0\n",
       "4      Brass pictures (movies is not a fitting word f...           0\n",
       "...                                                  ...         ...\n",
       "12495  I was extraordinarily impressed by this film. ...           1\n",
       "12496  Although I'm not a golf fan, I attended a snea...           1\n",
       "12497  From the start of \"The Edge Of Love\", the view...           1\n",
       "12498  This movie, with all its complexity and subtle...           1\n",
       "12499  I've seen this story before but my kids haven'...           1\n",
       "\n",
       "[25000 rows x 2 columns]"
      ]
     },
     "execution_count": 3,
     "metadata": {},
     "output_type": "execute_result"
    }
   ],
   "source": [
    "df_neg=pd.DataFrame(neg_review)\n",
    "df_neg.columns=[\"Review\"]\n",
    "df_neg[\"sentiments\"]=0\n",
    "\n",
    "df_pos=pd.DataFrame(pos_review)\n",
    "df_pos.columns=[\"Review\"]\n",
    "df_pos[\"sentiments\"]=1\n",
    "\n",
    "df=pd.concat([df_neg,df_pos])\n",
    "df"
   ]
  },
  {
   "cell_type": "markdown",
   "id": "405bbf74",
   "metadata": {},
   "source": [
    "Split the data into a train dataset(70%) and a test dataset(30%)"
   ]
  },
  {
   "cell_type": "code",
   "execution_count": 4,
   "id": "1948be0a",
   "metadata": {},
   "outputs": [],
   "source": [
    "train, test = train_test_split(df, test_size=0.3, random_state=42, shuffle=True)"
   ]
  },
  {
   "cell_type": "markdown",
   "id": "392caf20",
   "metadata": {},
   "source": [
    "# Vectorizer "
   ]
  },
  {
   "cell_type": "code",
   "execution_count": 5,
   "id": "b9594c51",
   "metadata": {},
   "outputs": [
    {
     "data": {
      "text/plain": [
       "array(['00', '000', '007', ..., 'zoom', 'zucco', 'zucker'], dtype=object)"
      ]
     },
     "execution_count": 5,
     "metadata": {},
     "output_type": "execute_result"
    }
   ],
   "source": [
    "from sklearn.feature_extraction.text import CountVectorizer\n",
    "\n",
    "#vectorizer = CountVectorizer()\n",
    "vectorizer = CountVectorizer(analyzer= 'word', stop_words='english', max_features = 10000)\n",
    "vectorizer = vectorizer.fit(train.Review.values)\n",
    "vocab = vectorizer.get_feature_names_out()"
   ]
  },
  {
   "cell_type": "code",
   "execution_count": 6,
   "id": "e6822633",
   "metadata": {},
   "outputs": [],
   "source": [
    "X_train = vectorizer.transform(train.Review.values).toarray()\n",
    "y_train = train.sentiments.values\n",
    "X_test = vectorizer.transform(test.Review.values).toarray()\n",
    "y_test = test.sentiments.values"
   ]
  },
  {
   "cell_type": "markdown",
   "id": "c56e6f25",
   "metadata": {},
   "source": [
    "# Logistic Regression"
   ]
  },
  {
   "cell_type": "code",
   "execution_count": 7,
   "id": "592e3b40",
   "metadata": {},
   "outputs": [
    {
     "data": {
      "text/plain": [
       "LogisticRegression(max_iter=1000)"
      ]
     },
     "execution_count": 7,
     "metadata": {},
     "output_type": "execute_result"
    }
   ],
   "source": [
    "lr = LogisticRegression(max_iter = 1000)\n",
    "lr.fit(X_train, y_train)"
   ]
  },
  {
   "cell_type": "code",
   "execution_count": 8,
   "id": "d4cf4f35",
   "metadata": {},
   "outputs": [
    {
     "data": {
      "text/plain": [
       "0.8752"
      ]
     },
     "execution_count": 8,
     "metadata": {},
     "output_type": "execute_result"
    }
   ],
   "source": [
    "lr.score(X_test, y_test)"
   ]
  },
  {
   "cell_type": "markdown",
   "id": "704a478c",
   "metadata": {},
   "source": [
    "# 10 words"
   ]
  },
  {
   "cell_type": "code",
   "execution_count": 26,
   "id": "22da4650",
   "metadata": {},
   "outputs": [
    {
     "data": {
      "text/plain": [
       "array(['superb', 'disappointment', 'pathetic', 'fails', 'uninteresting',\n",
       "       'worst', 'terrible', 'mediocre', 'waste', 'awful'], dtype=object)"
      ]
     },
     "execution_count": 26,
     "metadata": {},
     "output_type": "execute_result"
    }
   ],
   "source": [
    "ind = np.argpartition(np.abs(lr.coef_[0]), -10)[-10:]\n",
    "m = vocab[ind]\n",
    "m"
   ]
  },
  {
   "cell_type": "code",
   "execution_count": 27,
   "id": "97200d3e",
   "metadata": {},
   "outputs": [
    {
     "data": {
      "text/plain": [
       "array(['brilliant', 'fantastic', 'excellent', 'notch', 'hilarious',\n",
       "       'superb', 'hilton', 'jackass', 'refreshing', 'amazing'],\n",
       "      dtype=object)"
      ]
     },
     "execution_count": 27,
     "metadata": {},
     "output_type": "execute_result"
    }
   ],
   "source": [
    "ind = np.argpartition(lr.coef_[0], -10)[-10:]\n",
    "m = vocab[ind]\n",
    "m"
   ]
  },
  {
   "cell_type": "code",
   "execution_count": 28,
   "id": "2211f709",
   "metadata": {},
   "outputs": [
    {
     "data": {
      "text/plain": [
       "array(['boring', 'pathetic', 'disappointment', 'mediocre', 'fails',\n",
       "       'uninteresting', 'terrible', 'awful', 'worst', 'waste'],\n",
       "      dtype=object)"
      ]
     },
     "execution_count": 28,
     "metadata": {},
     "output_type": "execute_result"
    }
   ],
   "source": [
    "ind = np.argpartition(-lr.coef_[0], -10)[-10:]\n",
    "m = vocab[ind]\n",
    "m"
   ]
  },
  {
   "cell_type": "markdown",
   "id": "78e35030",
   "metadata": {},
   "source": [
    "# how to improve?\n",
    "1) improve the vectorizer \\\n",
    "2) improve the classifier"
   ]
  },
  {
   "cell_type": "code",
   "execution_count": 31,
   "id": "021ce44a",
   "metadata": {},
   "outputs": [],
   "source": [
    "from sklearn.feature_extraction.text import TfidfVectorizer\n",
    "\n",
    "vectorizer = TfidfVectorizer(analyzer='word',stop_words= 'english', max_features = 10000)\n",
    "vectorizer = vectorizer.fit(train.Review.values)"
   ]
  },
  {
   "cell_type": "code",
   "execution_count": 32,
   "id": "41e7c9f9",
   "metadata": {},
   "outputs": [],
   "source": [
    "X_train = vectorizer.transform(train.Review.values).toarray()\n",
    "y_train = train.sentiments.values\n",
    "X_test = vectorizer.transform(test.Review.values).toarray()\n",
    "y_test = test.sentiments.values"
   ]
  },
  {
   "cell_type": "code",
   "execution_count": 33,
   "id": "9535c933",
   "metadata": {},
   "outputs": [
    {
     "data": {
      "text/plain": [
       "LogisticRegression(max_iter=1000)"
      ]
     },
     "execution_count": 33,
     "metadata": {},
     "output_type": "execute_result"
    }
   ],
   "source": [
    "lr = LogisticRegression(max_iter = 1000)\n",
    "lr.fit(X_train, y_train)"
   ]
  },
  {
   "cell_type": "code",
   "execution_count": 34,
   "id": "55386323",
   "metadata": {},
   "outputs": [
    {
     "data": {
      "text/plain": [
       "0.8896"
      ]
     },
     "execution_count": 34,
     "metadata": {},
     "output_type": "execute_result"
    }
   ],
   "source": [
    "lr.score(X_test, y_test)"
   ]
  },
  {
   "cell_type": "code",
   "execution_count": null,
   "id": "456e1fae",
   "metadata": {},
   "outputs": [],
   "source": [
    "from sklearn.neural_network import MLPClassifier\n",
    "clf = MLPClassifier(hidden_layer_sizes=(1000,100),random_state=1, max_iter=300).fit(X_train, y_train)\n",
    "clf.score(X_test, y_test)"
   ]
  },
  {
   "cell_type": "code",
   "execution_count": null,
   "id": "73469513",
   "metadata": {},
   "outputs": [],
   "source": []
  }
 ],
 "metadata": {
  "kernelspec": {
   "display_name": "Python 3 (ipykernel)",
   "language": "python",
   "name": "python3"
  },
  "language_info": {
   "codemirror_mode": {
    "name": "ipython",
    "version": 3
   },
   "file_extension": ".py",
   "mimetype": "text/x-python",
   "name": "python",
   "nbconvert_exporter": "python",
   "pygments_lexer": "ipython3",
   "version": "3.9.12"
  }
 },
 "nbformat": 4,
 "nbformat_minor": 5
}
